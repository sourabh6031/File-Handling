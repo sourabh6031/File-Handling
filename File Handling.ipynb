{
 "cells": [
  {
   "cell_type": "code",
   "execution_count": 1,
   "id": "52b15657",
   "metadata": {},
   "outputs": [],
   "source": [
    "file = open(\"sample.txt\",'r')"
   ]
  },
  {
   "cell_type": "code",
   "execution_count": 2,
   "id": "b09e559a",
   "metadata": {},
   "outputs": [
    {
     "data": {
      "text/plain": [
       "<_io.TextIOWrapper name='sample.txt' mode='r' encoding='cp1252'>"
      ]
     },
     "execution_count": 2,
     "metadata": {},
     "output_type": "execute_result"
    }
   ],
   "source": [
    "file"
   ]
  },
  {
   "cell_type": "code",
   "execution_count": 4,
   "id": "2d9797a2",
   "metadata": {},
   "outputs": [],
   "source": [
    "file = open(\"sample.txt\",'w')"
   ]
  },
  {
   "cell_type": "code",
   "execution_count": 5,
   "id": "5ddd82b9",
   "metadata": {},
   "outputs": [
    {
     "data": {
      "text/plain": [
       "23"
      ]
     },
     "execution_count": 5,
     "metadata": {},
     "output_type": "execute_result"
    }
   ],
   "source": [
    "file.write('I have added a new line')"
   ]
  },
  {
   "cell_type": "code",
   "execution_count": 7,
   "id": "6cfed637",
   "metadata": {},
   "outputs": [],
   "source": [
    "file.close()"
   ]
  },
  {
   "cell_type": "code",
   "execution_count": null,
   "id": "1db60184",
   "metadata": {},
   "outputs": [],
   "source": []
  },
  {
   "cell_type": "code",
   "execution_count": 8,
   "id": "02d586b8",
   "metadata": {},
   "outputs": [],
   "source": [
    "# I am opening a sample.txt file since it is 'w' i am opening to overwrite.\n",
    "# write mode overwrites the content of the text file\n",
    "file = open('sample.txt','w')"
   ]
  },
  {
   "cell_type": "code",
   "execution_count": 9,
   "id": "3ee22a3b",
   "metadata": {},
   "outputs": [],
   "source": [
    "# writing a new line. and closing it.\n",
    "# close is necessary as it saves the file other wise it gets corrupt.\n",
    "file.write('Next day I have added a new line')\n",
    "file.close()"
   ]
  },
  {
   "cell_type": "code",
   "execution_count": null,
   "id": "c70955bb",
   "metadata": {},
   "outputs": [],
   "source": []
  },
  {
   "cell_type": "code",
   "execution_count": 10,
   "id": "14d23b7c",
   "metadata": {},
   "outputs": [],
   "source": [
    "# using \"a\", it is used to append the new text after previous ones. \n",
    "\n",
    "file = open('sample.txt','a')\n",
    "file.write('Next day I have appended second line')\n",
    "file.close()"
   ]
  },
  {
   "cell_type": "code",
   "execution_count": 11,
   "id": "1361586a",
   "metadata": {},
   "outputs": [],
   "source": [
    "file = open('sample.txt','a')\n",
    "file.write('\\nNext day I have appended second line')\n",
    "file.close()"
   ]
  },
  {
   "cell_type": "code",
   "execution_count": 14,
   "id": "887eb7ad",
   "metadata": {},
   "outputs": [],
   "source": [
    "file = open('sample.txt','a')\n",
    "file.write('\\nNext day I have appended fourth line')\n",
    "file.close()"
   ]
  },
  {
   "cell_type": "code",
   "execution_count": 36,
   "id": "296316df",
   "metadata": {},
   "outputs": [],
   "source": [
    "file = open('sample.txt','a')\n",
    "file.write('\\nNext day I have credited 450 in bank account')\n",
    "file.write('\\nNext day I have credited 784 in bank account .')\n",
    "file.write('\\nAnd on last day, I have credited 784 in bank account and then debited 500 from it.')\n",
    "file.close()"
   ]
  },
  {
   "cell_type": "code",
   "execution_count": null,
   "id": "f8583c91",
   "metadata": {},
   "outputs": [],
   "source": []
  },
  {
   "cell_type": "code",
   "execution_count": null,
   "id": "97b43f18",
   "metadata": {},
   "outputs": [],
   "source": []
  },
  {
   "cell_type": "code",
   "execution_count": null,
   "id": "1be82635",
   "metadata": {},
   "outputs": [],
   "source": []
  },
  {
   "cell_type": "code",
   "execution_count": null,
   "id": "39a1482e",
   "metadata": {},
   "outputs": [],
   "source": []
  },
  {
   "cell_type": "code",
   "execution_count": 12,
   "id": "0544a5f3",
   "metadata": {},
   "outputs": [
    {
     "data": {
      "text/plain": [
       "<_io.TextIOWrapper name='sample.txt' mode='r' encoding='cp1252'>"
      ]
     },
     "execution_count": 12,
     "metadata": {},
     "output_type": "execute_result"
    }
   ],
   "source": [
    "open('sample.txt','r')"
   ]
  },
  {
   "cell_type": "code",
   "execution_count": 22,
   "id": "1627276b",
   "metadata": {},
   "outputs": [
    {
     "name": "stdout",
     "output_type": "stream",
     "text": [
      "Next day I have added a new lineNext day I have appended second line\n",
      "\n"
     ]
    }
   ],
   "source": [
    "# Read everything till the first \"\\n\" character\n",
    "\n",
    "f = open('sample.txt','r')\n",
    "print(f.readline())"
   ]
  },
  {
   "cell_type": "code",
   "execution_count": 18,
   "id": "864b7856",
   "metadata": {},
   "outputs": [
    {
     "name": "stdout",
     "output_type": "stream",
     "text": [
      "Next day I have added a new lineNext day I have appended second line\n",
      "Next day I have appended second line\n",
      "Next day I have appended fourth line\n"
     ]
    }
   ],
   "source": [
    "ff = open('sample.txt','r')\n",
    "print(ff.read())"
   ]
  },
  {
   "cell_type": "code",
   "execution_count": 23,
   "id": "965e2cc0",
   "metadata": {},
   "outputs": [
    {
     "name": "stdout",
     "output_type": "stream",
     "text": [
      "['Next day I have added a new lineNext day I have appended second line\\n', 'Next day I have appended second line\\n', 'Next day I have appended fourth line']\n"
     ]
    }
   ],
   "source": [
    "# The readlines() method returns a list containing each line in the file as a list item. \n",
    "# Use the hint parameter to limit the number of lines returned. \n",
    "# If the total number of bytes returned exceeds the specified number, no more lines are returned.\n",
    "\n",
    "f = open('sample.txt','r')\n",
    "print(f.readlines())"
   ]
  },
  {
   "cell_type": "markdown",
   "id": "27ef93fc",
   "metadata": {},
   "source": [
    "###  ASSIGNMENT"
   ]
  },
  {
   "cell_type": "code",
   "execution_count": null,
   "id": "07b9bca1",
   "metadata": {},
   "outputs": [],
   "source": [
    "#3 "
   ]
  },
  {
   "cell_type": "code",
   "execution_count": 20,
   "id": "464e1172",
   "metadata": {},
   "outputs": [
    {
     "name": "stdout",
     "output_type": "stream",
     "text": [
      "8\n"
     ]
    }
   ],
   "source": [
    "upper=0\n",
    "f1 = open(\"sample.txt\",'r')\n",
    "\n",
    "line = f1.read()\n",
    "\n",
    "for i in line:\n",
    "    if i.isupper():\n",
    "        upper+=1\n",
    "print(upper)"
   ]
  },
  {
   "cell_type": "code",
   "execution_count": null,
   "id": "809d2f39",
   "metadata": {},
   "outputs": [],
   "source": []
  },
  {
   "cell_type": "code",
   "execution_count": 24,
   "id": "6c1f164e",
   "metadata": {},
   "outputs": [],
   "source": [
    "#5\n",
    "# Given the file dog_breeds.txt, which of the following is the correct way to open the file for reading as a text file? \n",
    "# Select all that apply."
   ]
  },
  {
   "cell_type": "code",
   "execution_count": null,
   "id": "97509169",
   "metadata": {},
   "outputs": [],
   "source": [
    "'''To open a file in binary format, add 'b' to the mode parameter. \n",
    "Hence the \"rb\" mode opens the file in binary format for reading, \n",
    "while the \"wb\" mode opens the file in binary format for writing. \n",
    "Unlike text files, binary files are not human-readable.'''"
   ]
  },
  {
   "cell_type": "code",
   "execution_count": 28,
   "id": "a09c3823",
   "metadata": {
    "scrolled": true
   },
   "outputs": [
    {
     "name": "stdout",
     "output_type": "stream",
     "text": [
      "Next day I have added a new lineNext day I have appended second line\n",
      "Next day I have appended second line\n",
      "Next day I have appended fourth line\n"
     ]
    }
   ],
   "source": [
    "file = open('sample.txt')\n",
    "print(file.read())"
   ]
  },
  {
   "cell_type": "code",
   "execution_count": 29,
   "id": "18a406a7",
   "metadata": {},
   "outputs": [
    {
     "name": "stdout",
     "output_type": "stream",
     "text": [
      "Next day I have added a new lineNext day I have appended second line\n",
      "Next day I have appended second line\n",
      "Next day I have appended fourth line\n"
     ]
    }
   ],
   "source": [
    "file = open('sample.txt','r')\n",
    "print(file.read())"
   ]
  },
  {
   "cell_type": "code",
   "execution_count": null,
   "id": "ac7201ec",
   "metadata": {},
   "outputs": [],
   "source": []
  },
  {
   "cell_type": "markdown",
   "id": "966405d9",
   "metadata": {},
   "source": [
    "### ADDITIONAL PROBLEM"
   ]
  },
  {
   "cell_type": "code",
   "execution_count": 30,
   "id": "e839540f",
   "metadata": {},
   "outputs": [],
   "source": [
    "# 1"
   ]
  },
  {
   "cell_type": "code",
   "execution_count": 31,
   "id": "19f7473d",
   "metadata": {},
   "outputs": [
    {
     "name": "stdout",
     "output_type": "stream",
     "text": [
      "28\n"
     ]
    }
   ],
   "source": [
    "#You are an examiner and you need to check whether the essays written are within the word limit or not. \n",
    "#Given the code snippet below\n",
    "\n",
    "\n",
    "with open(\"sample.txt\",\"r\") as f:\n",
    "\n",
    "    count = 0\n",
    "\n",
    "    data = f.read()\n",
    "\n",
    "    words = data.split()\n",
    "\n",
    "    for word in words:\n",
    "\n",
    "        count += 1\n",
    "\n",
    "    print(count)"
   ]
  },
  {
   "cell_type": "code",
   "execution_count": null,
   "id": "00ca3c8a",
   "metadata": {},
   "outputs": [],
   "source": []
  },
  {
   "cell_type": "code",
   "execution_count": 32,
   "id": "c956c077",
   "metadata": {},
   "outputs": [],
   "source": [
    "#2"
   ]
  },
  {
   "cell_type": "code",
   "execution_count": null,
   "id": "b1e2a002",
   "metadata": {},
   "outputs": [],
   "source": [
    "'''\n",
    "Q. For a certain task, we need to filter out lines from a text file, data.txt, \n",
    "which contain the word \"scaler\", to a new text file, new_data.txt. Given the piece of code below:\n",
    "\n",
    "\n",
    "with open('data.txt', 'r') as fr:\n",
    "  lines = ______A_______\n",
    "  with open('new_data.txt', 'w') as fw:\n",
    "    for line in lines:\n",
    "      if 'scaler' in line:\n",
    "        ___B___\n",
    "What would be the correct option for A and B?\n",
    "\n",
    "Note: It can be assumed that we are checking for the term “scaler” in lower case only.'''"
   ]
  },
  {
   "cell_type": "code",
   "execution_count": 35,
   "id": "5c7985e8",
   "metadata": {},
   "outputs": [],
   "source": [
    "# first it opens 'sample.txt' file as 'fr', using readlines() on fr, it create a list of lines separated by '\\n'(new line).\n",
    "# in inner loop a new file is open but with 'w'(write) mode as 'fw'.\n",
    "# in 4th line, it iterate through every list of lines in 'fr',\n",
    "# in 5th line, it checks for the word 'second' in every iterate line and if found, \n",
    "# then write that whole line in newly created fw file.\n",
    "\n",
    "with open('sample.txt', 'r') as fr:\n",
    "    lines = fr.readlines()\n",
    "    with open('new_sample.txt', 'w') as fw:\n",
    "        for line in lines:\n",
    "            if 'second' in line:\n",
    "                fw.write(line)\n"
   ]
  },
  {
   "cell_type": "code",
   "execution_count": null,
   "id": "a6993fed",
   "metadata": {},
   "outputs": [],
   "source": []
  },
  {
   "cell_type": "code",
   "execution_count": null,
   "id": "f84cd6d4",
   "metadata": {},
   "outputs": [],
   "source": [
    "#4 Which of these would be the correct code to create a function to find the count of numeric characters in a file named \"Python.txt\"?"
   ]
  },
  {
   "cell_type": "code",
   "execution_count": null,
   "id": "889dc742",
   "metadata": {},
   "outputs": [],
   "source": []
  },
  {
   "cell_type": "code",
   "execution_count": 61,
   "id": "dca741ac",
   "metadata": {},
   "outputs": [],
   "source": [
    "def numcount():\n",
    "    numb=0\n",
    "    f1=open(\"sample.txt\",'r')\n",
    "    line=f1.read()\n",
    "    for i in line:\n",
    "        if (i.isnumeric() == True):\n",
    "            numb+=1\n",
    "    print(\"Total no. of numeric characters :\",numb)"
   ]
  },
  {
   "cell_type": "code",
   "execution_count": 62,
   "id": "f7de9bd0",
   "metadata": {},
   "outputs": [
    {
     "name": "stdout",
     "output_type": "stream",
     "text": [
      "Total no. of numeric characters : 12\n"
     ]
    }
   ],
   "source": [
    "numcount()"
   ]
  },
  {
   "cell_type": "code",
   "execution_count": null,
   "id": "5d8e8927",
   "metadata": {},
   "outputs": [],
   "source": []
  },
  {
   "cell_type": "code",
   "execution_count": null,
   "id": "b02a49eb",
   "metadata": {},
   "outputs": [],
   "source": [
    "#4"
   ]
  },
  {
   "cell_type": "code",
   "execution_count": 72,
   "id": "22d4d7ed",
   "metadata": {},
   "outputs": [
    {
     "data": {
      "text/plain": [
       "'Once the execution leaves the with block, the file is automatically closed, \\neven if an error occurs within the block. The with statement provides a reliable way for file handling in Python, \\nensuring your files are always closed appropriately.'"
      ]
     },
     "execution_count": 72,
     "metadata": {},
     "output_type": "execute_result"
    }
   ],
   "source": [
    "'''Once the execution leaves the with block, the file is automatically closed, \n",
    "even if an error occurs within the block. The with statement provides a reliable way for file handling in Python, \n",
    "ensuring your files are always closed appropriately.'''"
   ]
  },
  {
   "cell_type": "code",
   "execution_count": 71,
   "id": "4e065052",
   "metadata": {},
   "outputs": [
    {
     "name": "stdout",
     "output_type": "stream",
     "text": [
      "True\n"
     ]
    }
   ],
   "source": [
    "f = None \n",
    "for i in range (5): \n",
    "    with open(\"data.txt\", \"w\") as f: \n",
    "        if i > 2: \n",
    "            break \n",
    "print(f.closed)"
   ]
  },
  {
   "cell_type": "code",
   "execution_count": null,
   "id": "a401ca28",
   "metadata": {},
   "outputs": [],
   "source": []
  }
 ],
 "metadata": {
  "kernelspec": {
   "display_name": "Python 3 (ipykernel)",
   "language": "python",
   "name": "python3"
  },
  "language_info": {
   "codemirror_mode": {
    "name": "ipython",
    "version": 3
   },
   "file_extension": ".py",
   "mimetype": "text/x-python",
   "name": "python",
   "nbconvert_exporter": "python",
   "pygments_lexer": "ipython3",
   "version": "3.9.12"
  }
 },
 "nbformat": 4,
 "nbformat_minor": 5
}
